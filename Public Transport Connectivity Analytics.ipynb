{
 "cells": [
  {
   "cell_type": "code",
   "execution_count": 30,
   "metadata": {},
   "outputs": [],
   "source": [
    "import findspark\n",
    "findspark.init()\n",
    "\n",
    "import sys\n",
    "from pyspark.sql import SparkSession\n",
    "from pyspark.sql.types import StructType, StructField, StringType, DoubleType, IntegerType\n",
    "import matplotlib.pyplot as plt\n",
    "\n",
    "spark = SparkSession.builder.appName('Transport_Data').getOrCreate()"
   ]
  },
  {
   "cell_type": "code",
   "execution_count": 3,
   "metadata": {},
   "outputs": [],
   "source": [
    "stops_df       = spark.read.csv('stops.txt',      header=True, inferSchema=True, sep=',')\n",
    "stops_times_df = spark.read.csv('stop_times.txt', header=True, inferSchema=True, sep=',')\n",
    "trips_df       = spark.read.csv('trips.txt',      header=True, inferSchema=True, sep=',')\n",
    "routes_df      = spark.read.csv('routes.txt',     header=True, inferSchema=True, sep=',')\n",
    "calender_df    = spark.read.csv('calendar.txt',   header=True, inferSchema=True, sep=',')\n",
    "directions_df  = spark.read.csv('directions.txt', header=True, inferSchema=True, sep=',')\n",
    "\n",
    "stops_df.createOrReplaceTempView(\"stops\")\n",
    "stops_times_df.createOrReplaceTempView(\"stops_times\")\n",
    "trips_df.createOrReplaceTempView(\"trips\")\n",
    "routes_df.createOrReplaceTempView(\"routes\")\n",
    "calender_df.createOrReplaceTempView(\"calender\")\n",
    "directions_df.createOrReplaceTempView(\"directions\")"
   ]
  },
  {
   "cell_type": "markdown",
   "metadata": {},
   "source": [
    "### Data Transformation, combining various datasets together"
   ]
  },
  {
   "cell_type": "code",
   "execution_count": 4,
   "metadata": {},
   "outputs": [],
   "source": [
    "service_joined_data = spark.sql(\"\"\"\n",
    "SELECT stops.stop_id, stops.stop_code, stops.stop_name, stops.stop_lat, stops.stop_lon, stops.zone_id, stops.location_type,\n",
    "       stops_times.trip_id, stops_times.arrival_time, stops_times.departure_time, stops_times.stop_sequence,\n",
    "       stops_times.pickup_type, stops_times.drop_off_type, stops_times.shape_dist_traveled,\n",
    "       trips.route_id, trips.service_id, trips.trip_headsign, trips.trip_short_name, trips.direction_id, \n",
    "       trips.block_id, trips.shape_id, trips.wheelchair_accessible, trips.bikes_allowed,\n",
    "       routes.agency_id,routes.route_short_name,routes.route_long_name,routes.route_type,\n",
    "       directions.direction,\n",
    "       calender.monday,calender.tuesday,calender.wednesday,calender.thursday,calender.friday,\n",
    "       calender.saturday,calender.sunday,calender.start_date,calender.end_date\n",
    "FROM stops\n",
    "LEFT JOIN stops_times ON stops.stop_id = stops_times.stop_id\n",
    "LEFT JOIN trips ON stops_times.trip_id = trips.trip_id\n",
    "LEFT JOIN routes ON trips.route_id = routes.route_id\n",
    "LEFT JOIN directions ON trips.route_id = directions.route_id\n",
    "LEFT JOIN calender ON trips.service_id = calender.service_id\n",
    "\"\"\")\n",
    "service_joined_data.createOrReplaceTempView(\"Complete_data\")"
   ]
  },
  {
   "cell_type": "code",
   "execution_count": 5,
   "metadata": {},
   "outputs": [],
   "source": [
    "Complete_routes = spark.sql(\"\"\"SELECT trip_id,zone_id,\n",
    "                                  arrival_time, departure_time,stop_id,stop_code,stop_name,stop_sequence, \n",
    "                                  stop_lat,stop_lon, route_id,route_long_name,direction,service_id,wheelchair_accessible,\n",
    "                                  bikes_allowed,\n",
    "                                  monday,tuesday,wednesday,thursday,friday,saturday,sunday,start_date,end_date \n",
    "                                  from Complete_data where trip_id is not null and route_id is not null \"\"\")\n",
    "    \n",
    "Complete_routes.createOrReplaceTempView(\"Transport_routes\")"
   ]
  },
  {
   "cell_type": "code",
   "execution_count": 6,
   "metadata": {},
   "outputs": [
    {
     "data": {
      "text/plain": [
       "3551715"
      ]
     },
     "execution_count": 6,
     "metadata": {},
     "output_type": "execute_result"
    }
   ],
   "source": [
    "service_joined_data.count()"
   ]
  },
  {
   "cell_type": "code",
   "execution_count": 7,
   "metadata": {},
   "outputs": [
    {
     "data": {
      "text/plain": [
       "3551656"
      ]
     },
     "execution_count": 7,
     "metadata": {},
     "output_type": "execute_result"
    }
   ],
   "source": [
    "Complete_routes.count()"
   ]
  },
  {
   "cell_type": "markdown",
   "metadata": {},
   "source": [
    "### Metrics to Understand Data"
   ]
  },
  {
   "cell_type": "code",
   "execution_count": 8,
   "metadata": {},
   "outputs": [
    {
     "name": "stdout",
     "output_type": "stream",
     "text": [
      "+--------+--------------------+---------+---------+\n",
      "|route_id|     route_long_name|direction|num_stops|\n",
      "+--------+--------------------+---------+---------+\n",
      "|    6834|Downtown/Surrey C...|     EAST|       90|\n",
      "|    6834|Downtown/Surrey C...|     WEST|       90|\n",
      "|    6841|Downtown/Lougheed...|     WEST|       86|\n",
      "|    6841|Downtown/Lougheed...|     EAST|       86|\n",
      "|    6622|29th Avenue Stati...|     WEST|       80|\n",
      "|    6622|29th Avenue Stati...|     EAST|       80|\n",
      "|    6749|Haney/Maple Ridge...|     WEST|       69|\n",
      "|    6749|Haney/Maple Ridge...|     EAST|       69|\n",
      "|    6830|Downtown/Richmond...|    SOUTH|       68|\n",
      "|    6830|Downtown/Richmond...|    NORTH|       68|\n",
      "+--------+--------------------+---------+---------+\n",
      "only showing top 10 rows\n",
      "\n"
     ]
    }
   ],
   "source": [
    "stops_per_route = spark.sql(\"\"\"\n",
    "SELECT route_id, route_long_name, direction, COUNT(DISTINCT stop_sequence) as num_stops\n",
    "FROM Transport_routes\n",
    "GROUP BY route_id,route_long_name,direction\n",
    "ORDER BY num_stops DESC\n",
    "\"\"\")\n",
    "stops_per_route.show(10)"
   ]
  },
  {
   "cell_type": "markdown",
   "metadata": {},
   "source": [
    "#### Wheelchair Accessibility Analysis"
   ]
  },
  {
   "cell_type": "code",
   "execution_count": 29,
   "metadata": {},
   "outputs": [
    {
     "name": "stdout",
     "output_type": "stream",
     "text": [
      "+--------+--------------------+---------------------+---------+\n",
      "|route_id|     route_long_name|wheelchair_accessible|num_trips|\n",
      "+--------+--------------------+---------------------+---------+\n",
      "|    6619|Boundary/Commerci...|                    0|    46592|\n",
      "|    6617|Nanaimo Station/D...|                    0|    55450|\n",
      "|    6620|Granville/Waterfr...|                    0|    44376|\n",
      "|   16718|        Hastings/UBC|                    0|    59980|\n",
      "|    6615|     Robson/Downtown|                    0|    18786|\n",
      "|    6614| Powell/Downtown/UBC|                    0|    40290|\n",
      "|    6613|Main/Waterfront S...|                    0|    37128|\n",
      "|    6616|      Davie/Downtown|                    0|    19446|\n",
      "|    6618|Fraser/Waterfront...|                    0|    39982|\n",
      "|    6622|29th Avenue Stati...|                    0|    77858|\n",
      "|    6623|        Downtown/Oak|                    0|    31230|\n",
      "|    6624|Metrotown Station...|                    0|    56552|\n",
      "|    6621|Cambie/Olympic Vi...|                    0|    18912|\n",
      "|    6626|     Knight/Downtown|                    0|    46240|\n",
      "|    6625|   Victoria/Downtown|                    0|    51414|\n",
      "|    6630|Phibbs Exchange/J...|                    0|    20868|\n",
      "|    6635|        UBC/Downtown|                    0|     3160|\n",
      "|    6629|Kootenay Loop/Joy...|                    0|    14808|\n",
      "|   39304|Metrotown Station...|                    0|     6300|\n",
      "|    6628|Joyce Station/29t...|                    0|    23890|\n",
      "+--------+--------------------+---------------------+---------+\n",
      "only showing top 20 rows\n",
      "\n"
     ]
    }
   ],
   "source": [
    "Wheelchair_Accessibility_trips = spark.sql(\"\"\"SELECT distinct route_id,route_long_name,wheelchair_accessible, COUNT(*) AS num_trips\n",
    " FROM Transport_routes \n",
    " GROUP BY route_id, route_long_name, wheelchair_accessible \"\"\")\n",
    "Wheelchair_Accessibility_trips.show()"
   ]
  },
  {
   "cell_type": "markdown",
   "metadata": {},
   "source": [
    "#### Bikes_Allowed_Analysis"
   ]
  },
  {
   "cell_type": "code",
   "execution_count": 17,
   "metadata": {},
   "outputs": [
    {
     "name": "stdout",
     "output_type": "stream",
     "text": [
      "+--------+--------------------+-------------+---------+\n",
      "|route_id|     route_long_name|bikes_allowed|num_trips|\n",
      "+--------+--------------------+-------------+---------+\n",
      "|    6617|Nanaimo Station/D...|            1|    55450|\n",
      "|    6614| Powell/Downtown/UBC|            1|    40290|\n",
      "|    6615|     Robson/Downtown|            1|    18786|\n",
      "|    6620|Granville/Waterfr...|            1|    44376|\n",
      "|    6616|      Davie/Downtown|            1|    19446|\n",
      "|    6618|Fraser/Waterfront...|            1|    39982|\n",
      "|   16718|        Hastings/UBC|            1|    59980|\n",
      "|    6613|Main/Waterfront S...|            1|    37128|\n",
      "|    6619|Boundary/Commerci...|            1|    46592|\n",
      "|    6623|        Downtown/Oak|            1|    31230|\n",
      "|    6626|     Knight/Downtown|            1|    46240|\n",
      "|    6624|Metrotown Station...|            1|    56552|\n",
      "|    6622|29th Avenue Stati...|            1|    77858|\n",
      "|    6625|   Victoria/Downtown|            1|    51414|\n",
      "|    6621|Cambie/Olympic Vi...|            1|    18912|\n",
      "|   30055|Main St Station/E...|            1|    24130|\n",
      "|    6629|Kootenay Loop/Joy...|            1|    14808|\n",
      "|    6630|Phibbs Exchange/J...|            1|    20868|\n",
      "|    6628|Joyce Station/29t...|            1|    23890|\n",
      "|   39304|Metrotown Station...|            1|     6300|\n",
      "+--------+--------------------+-------------+---------+\n",
      "only showing top 20 rows\n",
      "\n"
     ]
    }
   ],
   "source": [
    "Bikes_allowed_trips = spark.sql(\"\"\"SELECT route_id,route_long_name,bikes_allowed, COUNT(*) AS num_trips\n",
    " FROM Transport_routes\n",
    " GROUP BY route_id, route_long_name, bikes_allowed \"\"\")\n",
    "Bikes_allowed_trips.show()"
   ]
  },
  {
   "cell_type": "markdown",
   "metadata": {},
   "source": [
    "#### Service Availability"
   ]
  },
  {
   "cell_type": "code",
   "execution_count": 24,
   "metadata": {},
   "outputs": [
    {
     "name": "stdout",
     "output_type": "stream",
     "text": [
      "+------------+-------------+---------------+--------------+------------+--------------+------------+\n",
      "|monday_trips|tuesday_trips|wednesday_trips|thursday_trips|friday_trips|saturday_trips|sunday_trips|\n",
      "+------------+-------------+---------------+--------------+------------+--------------+------------+\n",
      "|     1395806|      1395806|        1395806|       1395806|     1395806|       1106858|      970978|\n",
      "+------------+-------------+---------------+--------------+------------+--------------+------------+\n",
      "\n"
     ]
    }
   ],
   "source": [
    "serviceAvailability = spark.sql(\"\"\"\n",
    "SELECT SUM(monday) as monday_trips, SUM(tuesday) as tuesday_trips, SUM(wednesday) as wednesday_trips,\n",
    "       SUM(thursday) as thursday_trips, SUM(friday) as friday_trips,\n",
    "       SUM(saturday) as saturday_trips, SUM(sunday) as sunday_trips\n",
    "FROM Transport_routes\n",
    "\"\"\")\n",
    "serviceAvailability.show() "
   ]
  },
  {
   "cell_type": "code",
   "execution_count": 32,
   "metadata": {},
   "outputs": [
    {
     "data": {
      "image/png": "[encoded data removed]",
      "text/plain": [
       "<Figure size 720x432 with 1 Axes>"
      ]
     },
     "metadata": {
      "needs_background": "light"
     },
     "output_type": "display_data"
    }
   ],
   "source": [
    "serviceAvailability_pandas = serviceAvailability.toPandas()\n",
    "days = ['Monday', 'Tuesday', 'Wednesday', 'Thursday', 'Friday', 'Saturday', 'Sunday']\n",
    "trip_counts = [\n",
    "    serviceAvailability_pandas['monday_trips'].iloc[0],\n",
    "    serviceAvailability_pandas['tuesday_trips'].iloc[0],\n",
    "    serviceAvailability_pandas['wednesday_trips'].iloc[0],\n",
    "    serviceAvailability_pandas['thursday_trips'].iloc[0],\n",
    "    serviceAvailability_pandas['friday_trips'].iloc[0],\n",
    "    serviceAvailability_pandas['saturday_trips'].iloc[0],\n",
    "    serviceAvailability_pandas['sunday_trips'].iloc[0]\n",
    "]\n",
    "\n",
    "plt.figure(figsize=(10, 6))\n",
    "plt.bar(days, trip_counts, color='skyblue')\n",
    "plt.xlabel('Day of the Week')\n",
    "plt.ylabel('Number of Trips')\n",
    "plt.title('Service Availability for Each Day of the Week')\n",
    "plt.tight_layout()\n",
    "plt.show()\n"
   ]
  },
  {
   "cell_type": "markdown",
   "metadata": {},
   "source": [
    "#### Number of trips per route/direction"
   ]
  },
  {
   "cell_type": "code",
   "execution_count": 25,
   "metadata": {},
   "outputs": [
    {
     "name": "stdout",
     "output_type": "stream",
     "text": [
      "+---------+---------+\n",
      "|direction|num_trips|\n",
      "+---------+---------+\n",
      "|     WEST|    38466|\n",
      "|    SOUTH|    21839|\n",
      "|    NORTH|    21839|\n",
      "|     EAST|    38466|\n",
      "+---------+---------+\n",
      "\n"
     ]
    }
   ],
   "source": [
    "Trips_per_direction = spark.sql(\"\"\"SELECT direction, COUNT(DISTINCT trip_id) AS num_trips\n",
    "FROM Transport_routes\n",
    "GROUP BY direction\n",
    "\"\"\")\n",
    "Trips_per_direction.show() "
   ]
  },
  {
   "cell_type": "code",
   "execution_count": 33,
   "metadata": {},
   "outputs": [
    {
     "data": {
      "image/png": "[encoded data removed]",
      "text/plain": [
       "<Figure size 576x576 with 1 Axes>"
      ]
     },
     "metadata": {},
     "output_type": "display_data"
    }
   ],
   "source": [
    "trips_per_direction_pandas = Trips_per_direction.toPandas()\n",
    "directions = trips_per_direction_pandas['direction']\n",
    "num_trips = trips_per_direction_pandas['num_trips']\n",
    "\n",
    "plt.figure(figsize=(8, 8))\n",
    "plt.pie(num_trips, labels=directions, autopct='%1.1f%%', startangle=140)\n",
    "plt.axis('equal')  # Equal aspect ratio ensures that pie is drawn as a circle\n",
    "plt.title('Trips per Direction')\n",
    "plt.tight_layout()\n",
    "plt.show()"
   ]
  },
  {
   "cell_type": "markdown",
   "metadata": {},
   "source": [
    "#### Calculate stop density within a specific area"
   ]
  },
  {
   "cell_type": "code",
   "execution_count": 22,
   "metadata": {},
   "outputs": [
    {
     "name": "stdout",
     "output_type": "stream",
     "text": [
      "+-------+---------+------------+\n",
      "|zone_id|num_stops|stop_density|\n",
      "+-------+---------+------------+\n",
      "| BUS ZN|  3372074|   3372074.0|\n",
      "|   ZN 1|    81760|     81760.0|\n",
      "|   ZN 2|    70014|     70014.0|\n",
      "|   ZN 3|    25006|     25006.0|\n",
      "|  CL_AD|     2550|      2550.0|\n",
      "|  WCE1Z|       24|        24.0|\n",
      "|  WCE4Z|       24|        24.0|\n",
      "|  WCE2Z|       72|        72.0|\n",
      "|  WCE1A|       12|        12.0|\n",
      "|  WCE2A|       48|        48.0|\n",
      "|  WCE3Z|       72|        72.0|\n",
      "+-------+---------+------------+\n",
      "\n"
     ]
    }
   ],
   "source": [
    "stopDensity = spark.sql(\"\"\"\n",
    "        SELECT zone_id, COUNT(stop_id) AS num_stops,\n",
    "           COUNT(stop_id) / COUNT(DISTINCT zone_id) AS stop_density\n",
    "    FROM Transport_routes\n",
    "    GROUP BY zone_id\n",
    "\"\"\")\n",
    "stopDensity.show() "
   ]
  },
  {
   "cell_type": "markdown",
   "metadata": {},
   "source": [
    "#### Analyze the distribution of stop frequencies"
   ]
  },
  {
   "cell_type": "code",
   "execution_count": 21,
   "metadata": {},
   "outputs": [
    {
     "name": "stdout",
     "output_type": "stream",
     "text": [
      "+--------------------+---------+\n",
      "|           stop_name|frequency|\n",
      "+--------------------+---------+\n",
      "|Coquitlam Central...|     3906|\n",
      "|UBC Exchange @ Un...|     3726|\n",
      "|Waterfront Statio...|     3714|\n",
      "|Westbound W Pende...|     3440|\n",
      "|Northbound Granvi...|     3276|\n",
      "|Northbound Granvi...|     3276|\n",
      "|Northbound Granvi...|     3248|\n",
      "|Marine Drive Stat...|     3084|\n",
      "|Westbound E Hasti...|     3036|\n",
      "|Westbound W Hasti...|     3036|\n",
      "|Westbound W Pende...|     2930|\n",
      "|Metrotown Station...|     2914|\n",
      "|Eastbound W Pende...|     2788|\n",
      "|Surrey Central St...|     2706|\n",
      "|Eastbound W Cordo...|     2674|\n",
      "|Metrotown Station...|     2562|\n",
      "|Westbound 72 Ave ...|     2560|\n",
      "|Main St @ Phibbs ...|     2528|\n",
      "|Northbound Granvi...|     2440|\n",
      "|Northbound Granvi...|     2440|\n",
      "+--------------------+---------+\n",
      "only showing top 20 rows\n",
      "\n"
     ]
    }
   ],
   "source": [
    "stopFrequency = spark.sql(\"\"\"\n",
    "SELECT stop_name, COUNT(*) AS frequency\n",
    "FROM Transport_routes\n",
    "GROUP BY stop_name\n",
    "ORDER BY frequency DESC\n",
    "\"\"\")\n",
    "stopFrequency.show()"
   ]
  },
  {
   "cell_type": "markdown",
   "metadata": {},
   "source": [
    "#### Analyze service availability throughout the day"
   ]
  },
  {
   "cell_type": "code",
   "execution_count": 20,
   "metadata": {},
   "outputs": [
    {
     "name": "stdout",
     "output_type": "stream",
     "text": [
      "+-----------+---------+\n",
      "|hour_of_day|num_trips|\n",
      "+-----------+---------+\n",
      "|          3|      886|\n",
      "|          4|     9130|\n",
      "|          5|    61686|\n",
      "|          6|   140872|\n",
      "|          7|   182786|\n",
      "|          8|   199752|\n",
      "|          9|   195368|\n",
      "|         10|   187466|\n",
      "|         11|   186492|\n",
      "|         12|   189046|\n",
      "|         13|   193746|\n",
      "|         14|   203228|\n",
      "|         15|   224138|\n",
      "|         16|   233500|\n",
      "|         17|   232146|\n",
      "|         18|   216432|\n",
      "|         19|   186458|\n",
      "|         20|   162978|\n",
      "|         21|   147132|\n",
      "|         22|   123698|\n",
      "|         23|   104870|\n",
      "+-----------+---------+\n",
      "\n"
     ]
    }
   ],
   "source": [
    "temporalAvailability = spark.sql(\"\"\"\n",
    "SELECT HOUR(arrival_time) AS hour_of_day, COUNT(*) AS num_trips\n",
    "FROM Transport_routes where HOUR(arrival_time) is not null\n",
    "GROUP BY HOUR(arrival_time)\n",
    "ORDER BY hour_of_day\n",
    "\"\"\")\n",
    "temporalAvailability.show(24)"
   ]
  }
 ],
 "metadata": {
  "kernelspec": {
   "display_name": "Python 3 (ipykernel)",
   "language": "python",
   "name": "python3"
  },
  "language_info": {
   "codemirror_mode": {
    "name": "ipython",
    "version": 3
   },
   "file_extension": ".py",
   "mimetype": "text/x-python",
   "name": "python",
   "nbconvert_exporter": "python",
   "pygments_lexer": "ipython3",
   "version": "3.11.4"
  }
 },
 "nbformat": 4,
 "nbformat_minor": 4
}
